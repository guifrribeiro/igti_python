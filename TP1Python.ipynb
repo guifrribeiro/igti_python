{
  "nbformat": 4,
  "nbformat_minor": 0,
  "metadata": {
    "colab": {
      "name": "TP1Python.ipynb",
      "provenance": [],
      "collapsed_sections": [],
      "authorship_tag": "ABX9TyNTv/52W0Mea00dmNIpJvmm",
      "include_colab_link": true
    },
    "kernelspec": {
      "name": "python3",
      "display_name": "Python 3"
    }
  },
  "cells": [
    {
      "cell_type": "markdown",
      "metadata": {
        "id": "view-in-github",
        "colab_type": "text"
      },
      "source": [
        "<a href=\"https://colab.research.google.com/github/guifrribeiro/igti_python/blob/master/TP1Python.ipynb\" target=\"_parent\"><img src=\"https://colab.research.google.com/assets/colab-badge.svg\" alt=\"Open In Colab\"/></a>"
      ]
    },
    {
      "cell_type": "code",
      "metadata": {
        "id": "U55H-IYa8cbR",
        "colab_type": "code",
        "colab": {
          "base_uri": "https://localhost:8080/",
          "height": 129
        },
        "outputId": "7cfcee1b-6284-455f-e034-2ada77513db1"
      },
      "source": [
        "idade = int(input (\"Entre com a sua idade: \"))\n",
        "nova_idade = idade + 1\n",
        "print(\"No próximo ano você terá: {} anos.\".format(nova_idade))"
      ],
      "execution_count": null,
      "outputs": [
        {
          "output_type": "error",
          "ename": "SyntaxError",
          "evalue": "ignored",
          "traceback": [
            "\u001b[0;36m  File \u001b[0;32m\"<ipython-input-5-786c4d1cfcd6>\"\u001b[0;36m, line \u001b[0;32m3\u001b[0m\n\u001b[0;31m    print \"No próximo ano você terá: {} anos.\".format(nova_idade)\u001b[0m\n\u001b[0m                                             ^\u001b[0m\n\u001b[0;31mSyntaxError\u001b[0m\u001b[0;31m:\u001b[0m invalid syntax\n"
          ]
        }
      ]
    },
    {
      "cell_type": "code",
      "metadata": {
        "id": "9z_G79dK8yFB",
        "colab_type": "code",
        "colab": {
          "base_uri": "https://localhost:8080/",
          "height": 34
        },
        "outputId": "85727388-86c3-4f6b-e09c-3d99f82363d0"
      },
      "source": [
        "lado_a = 35\n",
        "lado_b = 14.33333\n",
        "area_do_retangulo = (lado_a) * (lado_b)\n",
        "print('O retângulo de lado A = %d e lado B = %.2d é %.3f '%(lado_a, lado_b, area_do_retangulo))"
      ],
      "execution_count": null,
      "outputs": [
        {
          "output_type": "stream",
          "text": [
            "O retângulo de lado A = 35 e lado B = 14 é 501.667 \n"
          ],
          "name": "stdout"
        }
      ]
    },
    {
      "cell_type": "code",
      "metadata": {
        "id": "ZtDDkO8J9GWv",
        "colab_type": "code",
        "colab": {
          "base_uri": "https://localhost:8080/",
          "height": 85
        },
        "outputId": "a85d8c82-7056-496c-d891-d153028fd8a6"
      },
      "source": [
        "lista_1 = [1, 2, 'IGTI']\n",
        "lista_2 = [2, 3, \"Bootcamp\"]\n",
        "lista_3 = lista_1 + lista_2\n",
        "print(lista_3)\n",
        "lista_3.append('Python')\n",
        "print(lista_3)\n",
        "print(lista_3[2])\n",
        "lista_4 = {}\n",
        "print(lista_4)"
      ],
      "execution_count": null,
      "outputs": [
        {
          "output_type": "stream",
          "text": [
            "[1, 2, 'IGTI', 2, 3, 'Bootcamp']\n",
            "[1, 2, 'IGTI', 2, 3, 'Bootcamp', 'Python']\n",
            "IGTI\n",
            "{}\n"
          ],
          "name": "stdout"
        }
      ]
    },
    {
      "cell_type": "code",
      "metadata": {
        "id": "fS2tk8bV9Rkx",
        "colab_type": "code",
        "colab": {
          "base_uri": "https://localhost:8080/",
          "height": 68
        },
        "outputId": "1e48efec-b1b0-4273-d72b-87ce80859746"
      },
      "source": [
        "chute = int(input('Entre com um valor inteiro de 0 a 30: '))\n",
        "adivinhacao = [5, 6, 10, 14, 16, 20, 30]\n",
        "if chute in adivinhacao:\n",
        "  print('Você acertou um dos números que eu estava pensando.')\n",
        "\n",
        "  if chute > 15:\n",
        "    print('Esse número é maior que 20.')\n",
        "\n",
        "  if chute < 20:\n",
        "    print('Esse número é menor que 20.')\n",
        "\n",
        "  print('Você é fera.')\n",
        "else:\n",
        "  print('Que pena, você errou. Pode tentar outra vez')\n",
        "print('Obrigado por participar.')"
      ],
      "execution_count": null,
      "outputs": [
        {
          "output_type": "stream",
          "text": [
            "Entre com um valor inteiro de 0 a 30: 10\n",
            "Que pena, você errou. Pode tentar outra vez\n",
            "Obrigado por participar.\n"
          ],
          "name": "stdout"
        }
      ]
    },
    {
      "cell_type": "code",
      "metadata": {
        "id": "Dsr8GAgR9_DN",
        "colab_type": "code",
        "colab": {
          "base_uri": "https://localhost:8080/",
          "height": 51
        },
        "outputId": "6fed900c-5fe4-470d-da4c-bbbbf081a47b"
      },
      "source": [
        "frutas = [\"maçã\", \"banana\", \"uva\", \"goiaba\"]\n",
        "for x in frutas:\n",
        "  if x == \"uva\":\n",
        "    break\n",
        "  print(x)"
      ],
      "execution_count": null,
      "outputs": [
        {
          "output_type": "stream",
          "text": [
            "maçã\n",
            "banana\n"
          ],
          "name": "stdout"
        }
      ]
    },
    {
      "cell_type": "code",
      "metadata": {
        "id": "S38wwGCD-IyJ",
        "colab_type": "code",
        "colab": {}
      },
      "source": [
        "n = 5\n",
        "while n > 0:\n",
        "  n -= 1\n",
        "  print(n)"
      ],
      "execution_count": null,
      "outputs": []
    }
  ]
}